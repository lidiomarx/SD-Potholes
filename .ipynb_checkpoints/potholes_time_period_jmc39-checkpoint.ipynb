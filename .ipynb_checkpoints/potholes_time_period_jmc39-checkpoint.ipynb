{
 "cells": [
  {
   "cell_type": "code",
   "execution_count": 1,
   "metadata": {},
   "outputs": [],
   "source": [
    "# Project Title\n",
    "# Digging Insights Out of Potholes\n",
    "\n",
    "# Team Members\n",
    "# Lidio Meireles, James Carter, Anthony Stansall, Tian Luo\n",
    "\n",
    "# Project Description\n",
    "# The City of San Diego shares a public dataset of pothole repair requests made between\n",
    "# 01/2017 and 02/2019 Each record includes the date the pothole was reported, the date \n",
    "# the pothole was repaired, the location of the pothole (lat & long), among other things. \n",
    "# From this dataset, we plan to answer the following questions:\n",
    "\n",
    "# Research Questions\n",
    "\n",
    "# 1) How long does it take to repair a pothole? Repair time by neighborhood?\n",
    "# 2) Most affected neighborhoods?\n",
    "# 3) Number of pothole repair requests over time. How rain affects the number of potholes?"
   ]
  },
  {
   "cell_type": "code",
   "execution_count": 2,
   "metadata": {},
   "outputs": [],
   "source": [
    "import pandas as pd\n",
    "import matplotlib.pyplot as plt\n",
    "import numpy as np\n",
    "import matplotlib.axes as ax"
   ]
  },
  {
   "cell_type": "code",
   "execution_count": 3,
   "metadata": {},
   "outputs": [
    {
     "data": {
      "text/html": [
       "<div>\n",
       "<style scoped>\n",
       "    .dataframe tbody tr th:only-of-type {\n",
       "        vertical-align: middle;\n",
       "    }\n",
       "\n",
       "    .dataframe tbody tr th {\n",
       "        vertical-align: top;\n",
       "    }\n",
       "\n",
       "    .dataframe thead th {\n",
       "        text-align: right;\n",
       "    }\n",
       "</style>\n",
       "<table border=\"1\" class=\"dataframe\">\n",
       "  <thead>\n",
       "    <tr style=\"text-align: right;\">\n",
       "      <th></th>\n",
       "      <th>service_request_id</th>\n",
       "      <th>requested_datetime</th>\n",
       "      <th>case_age_days</th>\n",
       "      <th>service_name</th>\n",
       "      <th>case_record_type</th>\n",
       "      <th>updated_datetime</th>\n",
       "      <th>status</th>\n",
       "      <th>lat</th>\n",
       "      <th>long</th>\n",
       "      <th>district</th>\n",
       "      <th>case_origin</th>\n",
       "      <th>referred_department</th>\n",
       "      <th>public_description</th>\n",
       "    </tr>\n",
       "  </thead>\n",
       "  <tbody>\n",
       "    <tr>\n",
       "      <th>0</th>\n",
       "      <td>80508</td>\n",
       "      <td>2016-05-20T08:55:00</td>\n",
       "      <td>0.0</td>\n",
       "      <td>Pothole</td>\n",
       "      <td>TSW</td>\n",
       "      <td>2016-05-20T16:42:00</td>\n",
       "      <td>Closed</td>\n",
       "      <td>32.831881</td>\n",
       "      <td>-117.231233</td>\n",
       "      <td>2.0</td>\n",
       "      <td>Phone</td>\n",
       "      <td>NaN</td>\n",
       "      <td>test only, please dont create a notification</td>\n",
       "    </tr>\n",
       "    <tr>\n",
       "      <th>1</th>\n",
       "      <td>80510</td>\n",
       "      <td>2016-05-20T09:05:00</td>\n",
       "      <td>0.0</td>\n",
       "      <td>Pothole</td>\n",
       "      <td>TSW</td>\n",
       "      <td>2016-05-20T16:42:00</td>\n",
       "      <td>Closed</td>\n",
       "      <td>32.716021</td>\n",
       "      <td>-117.159052</td>\n",
       "      <td>3.0</td>\n",
       "      <td>Web</td>\n",
       "      <td>NaN</td>\n",
       "      <td>Test Only - Please close</td>\n",
       "    </tr>\n",
       "    <tr>\n",
       "      <th>2</th>\n",
       "      <td>80518</td>\n",
       "      <td>2016-05-20T09:31:00</td>\n",
       "      <td>19.0</td>\n",
       "      <td>Pothole</td>\n",
       "      <td>TSW</td>\n",
       "      <td>2016-06-07T21:39:00</td>\n",
       "      <td>Closed</td>\n",
       "      <td>32.760286</td>\n",
       "      <td>-117.104798</td>\n",
       "      <td>9.0</td>\n",
       "      <td>Phone</td>\n",
       "      <td>NaN</td>\n",
       "      <td>4000 block of copeland just before you get on ...</td>\n",
       "    </tr>\n",
       "    <tr>\n",
       "      <th>3</th>\n",
       "      <td>80531</td>\n",
       "      <td>2016-05-20T10:43:00</td>\n",
       "      <td>5.0</td>\n",
       "      <td>Pothole</td>\n",
       "      <td>TSW</td>\n",
       "      <td>2016-05-25T22:37:00</td>\n",
       "      <td>Closed</td>\n",
       "      <td>32.955916</td>\n",
       "      <td>-117.252152</td>\n",
       "      <td>1.0</td>\n",
       "      <td>Phone</td>\n",
       "      <td>NaN</td>\n",
       "      <td>LARGE P/H CAUSED VEHICLE DAMAGE</td>\n",
       "    </tr>\n",
       "    <tr>\n",
       "      <th>4</th>\n",
       "      <td>80535</td>\n",
       "      <td>2016-05-20T11:14:00</td>\n",
       "      <td>0.0</td>\n",
       "      <td>Pothole</td>\n",
       "      <td>TSW</td>\n",
       "      <td>2016-05-20T13:36:00</td>\n",
       "      <td>Closed</td>\n",
       "      <td>32.710295</td>\n",
       "      <td>-117.155278</td>\n",
       "      <td>3.0</td>\n",
       "      <td>Web</td>\n",
       "      <td>NaN</td>\n",
       "      <td>This is a test.  Please close when you receive.</td>\n",
       "    </tr>\n",
       "  </tbody>\n",
       "</table>\n",
       "</div>"
      ],
      "text/plain": [
       "   service_request_id   requested_datetime  case_age_days service_name  \\\n",
       "0               80508  2016-05-20T08:55:00            0.0      Pothole   \n",
       "1               80510  2016-05-20T09:05:00            0.0      Pothole   \n",
       "2               80518  2016-05-20T09:31:00           19.0      Pothole   \n",
       "3               80531  2016-05-20T10:43:00            5.0      Pothole   \n",
       "4               80535  2016-05-20T11:14:00            0.0      Pothole   \n",
       "\n",
       "  case_record_type     updated_datetime  status        lat        long  \\\n",
       "0              TSW  2016-05-20T16:42:00  Closed  32.831881 -117.231233   \n",
       "1              TSW  2016-05-20T16:42:00  Closed  32.716021 -117.159052   \n",
       "2              TSW  2016-06-07T21:39:00  Closed  32.760286 -117.104798   \n",
       "3              TSW  2016-05-25T22:37:00  Closed  32.955916 -117.252152   \n",
       "4              TSW  2016-05-20T13:36:00  Closed  32.710295 -117.155278   \n",
       "\n",
       "   district case_origin referred_department  \\\n",
       "0       2.0       Phone                 NaN   \n",
       "1       3.0         Web                 NaN   \n",
       "2       9.0       Phone                 NaN   \n",
       "3       1.0       Phone                 NaN   \n",
       "4       3.0         Web                 NaN   \n",
       "\n",
       "                                  public_description  \n",
       "0       test only, please dont create a notification  \n",
       "1                           Test Only - Please close  \n",
       "2  4000 block of copeland just before you get on ...  \n",
       "3                    LARGE P/H CAUSED VEHICLE DAMAGE  \n",
       "4    This is a test.  Please close when you receive.  "
      ]
     },
     "execution_count": 3,
     "metadata": {},
     "output_type": "execute_result"
    }
   ],
   "source": [
    "file = \"data/20190228_get_it_done_pothole_requests_datasd.csv\"\n",
    "df = pd.read_csv(file)\n",
    "df.head(5)\n",
    "del df['referred_department']\n",
    "del df['service_name']\n",
    "del df['case_record_type']\n",
    "del df['public_description']"
   ]
  },
  {
   "cell_type": "code",
   "execution_count": 4,
   "metadata": {},
   "outputs": [],
   "source": [
    "df.to_csv(\"data/output.csv\")"
   ]
  },
  {
   "cell_type": "code",
   "execution_count": 5,
   "metadata": {},
   "outputs": [
    {
     "name": "stdout",
     "output_type": "stream",
     "text": [
      "48305\n",
      "44581\n"
     ]
    }
   ],
   "source": [
    "pothole_df = df\n",
    "\n",
    "# Drop duplicate service requests based on status, and lat, long\n",
    "print(len(pothole_df))\n",
    "pothole_df.drop_duplicates(['lat','long','district','case_origin'],inplace=True)\n",
    "print(len(pothole_df))"
   ]
  },
  {
   "cell_type": "code",
   "execution_count": 6,
   "metadata": {},
   "outputs": [
    {
     "data": {
      "text/html": [
       "<div>\n",
       "<style scoped>\n",
       "    .dataframe tbody tr th:only-of-type {\n",
       "        vertical-align: middle;\n",
       "    }\n",
       "\n",
       "    .dataframe tbody tr th {\n",
       "        vertical-align: top;\n",
       "    }\n",
       "\n",
       "    .dataframe thead th {\n",
       "        text-align: right;\n",
       "    }\n",
       "</style>\n",
       "<table border=\"1\" class=\"dataframe\">\n",
       "  <thead>\n",
       "    <tr style=\"text-align: right;\">\n",
       "      <th></th>\n",
       "      <th>service_request_id</th>\n",
       "      <th>requested_datetime</th>\n",
       "      <th>case_age_days</th>\n",
       "      <th>updated_datetime</th>\n",
       "      <th>status</th>\n",
       "      <th>lat</th>\n",
       "      <th>long</th>\n",
       "      <th>district</th>\n",
       "      <th>case_origin</th>\n",
       "    </tr>\n",
       "  </thead>\n",
       "  <tbody>\n",
       "    <tr>\n",
       "      <th>0</th>\n",
       "      <td>80508</td>\n",
       "      <td>2016-05-20T08:55:00</td>\n",
       "      <td>0.0</td>\n",
       "      <td>2016-05-20T16:42:00</td>\n",
       "      <td>Closed</td>\n",
       "      <td>32.831881</td>\n",
       "      <td>-117.231233</td>\n",
       "      <td>2.0</td>\n",
       "      <td>Phone</td>\n",
       "    </tr>\n",
       "    <tr>\n",
       "      <th>1</th>\n",
       "      <td>80510</td>\n",
       "      <td>2016-05-20T09:05:00</td>\n",
       "      <td>0.0</td>\n",
       "      <td>2016-05-20T16:42:00</td>\n",
       "      <td>Closed</td>\n",
       "      <td>32.716021</td>\n",
       "      <td>-117.159052</td>\n",
       "      <td>3.0</td>\n",
       "      <td>Web</td>\n",
       "    </tr>\n",
       "    <tr>\n",
       "      <th>2</th>\n",
       "      <td>80518</td>\n",
       "      <td>2016-05-20T09:31:00</td>\n",
       "      <td>19.0</td>\n",
       "      <td>2016-06-07T21:39:00</td>\n",
       "      <td>Closed</td>\n",
       "      <td>32.760286</td>\n",
       "      <td>-117.104798</td>\n",
       "      <td>9.0</td>\n",
       "      <td>Phone</td>\n",
       "    </tr>\n",
       "    <tr>\n",
       "      <th>3</th>\n",
       "      <td>80531</td>\n",
       "      <td>2016-05-20T10:43:00</td>\n",
       "      <td>5.0</td>\n",
       "      <td>2016-05-25T22:37:00</td>\n",
       "      <td>Closed</td>\n",
       "      <td>32.955916</td>\n",
       "      <td>-117.252152</td>\n",
       "      <td>1.0</td>\n",
       "      <td>Phone</td>\n",
       "    </tr>\n",
       "    <tr>\n",
       "      <th>4</th>\n",
       "      <td>80535</td>\n",
       "      <td>2016-05-20T11:14:00</td>\n",
       "      <td>0.0</td>\n",
       "      <td>2016-05-20T13:36:00</td>\n",
       "      <td>Closed</td>\n",
       "      <td>32.710295</td>\n",
       "      <td>-117.155278</td>\n",
       "      <td>3.0</td>\n",
       "      <td>Web</td>\n",
       "    </tr>\n",
       "  </tbody>\n",
       "</table>\n",
       "</div>"
      ],
      "text/plain": [
       "   service_request_id   requested_datetime  case_age_days  \\\n",
       "0               80508  2016-05-20T08:55:00            0.0   \n",
       "1               80510  2016-05-20T09:05:00            0.0   \n",
       "2               80518  2016-05-20T09:31:00           19.0   \n",
       "3               80531  2016-05-20T10:43:00            5.0   \n",
       "4               80535  2016-05-20T11:14:00            0.0   \n",
       "\n",
       "      updated_datetime  status        lat        long  district case_origin  \n",
       "0  2016-05-20T16:42:00  Closed  32.831881 -117.231233       2.0       Phone  \n",
       "1  2016-05-20T16:42:00  Closed  32.716021 -117.159052       3.0         Web  \n",
       "2  2016-06-07T21:39:00  Closed  32.760286 -117.104798       9.0       Phone  \n",
       "3  2016-05-25T22:37:00  Closed  32.955916 -117.252152       1.0       Phone  \n",
       "4  2016-05-20T13:36:00  Closed  32.710295 -117.155278       3.0         Web  "
      ]
     },
     "execution_count": 6,
     "metadata": {},
     "output_type": "execute_result"
    }
   ],
   "source": [
    "pothole_df.head(5)"
   ]
  },
  {
   "cell_type": "markdown",
   "metadata": {},
   "source": [
    "### Age of Case by Month"
   ]
  },
  {
   "cell_type": "code",
   "execution_count": 43,
   "metadata": {},
   "outputs": [
    {
     "data": {
      "text/html": [
       "<div>\n",
       "<style scoped>\n",
       "    .dataframe tbody tr th:only-of-type {\n",
       "        vertical-align: middle;\n",
       "    }\n",
       "\n",
       "    .dataframe tbody tr th {\n",
       "        vertical-align: top;\n",
       "    }\n",
       "\n",
       "    .dataframe thead th {\n",
       "        text-align: right;\n",
       "    }\n",
       "</style>\n",
       "<table border=\"1\" class=\"dataframe\">\n",
       "  <thead>\n",
       "    <tr style=\"text-align: right;\">\n",
       "      <th></th>\n",
       "      <th>Age of Case</th>\n",
       "    </tr>\n",
       "    <tr>\n",
       "      <th>requested_datetime</th>\n",
       "      <th></th>\n",
       "    </tr>\n",
       "  </thead>\n",
       "  <tbody>\n",
       "    <tr>\n",
       "      <th>2016-05-20T08:55:00</th>\n",
       "      <td>0.0</td>\n",
       "    </tr>\n",
       "    <tr>\n",
       "      <th>2016-05-20T09:05:00</th>\n",
       "      <td>0.0</td>\n",
       "    </tr>\n",
       "    <tr>\n",
       "      <th>2016-05-20T09:31:00</th>\n",
       "      <td>19.0</td>\n",
       "    </tr>\n",
       "    <tr>\n",
       "      <th>2016-05-20T10:43:00</th>\n",
       "      <td>5.0</td>\n",
       "    </tr>\n",
       "    <tr>\n",
       "      <th>2016-05-20T11:14:00</th>\n",
       "      <td>0.0</td>\n",
       "    </tr>\n",
       "  </tbody>\n",
       "</table>\n",
       "</div>"
      ],
      "text/plain": [
       "                     Age of Case\n",
       "requested_datetime              \n",
       "2016-05-20T08:55:00          0.0\n",
       "2016-05-20T09:05:00          0.0\n",
       "2016-05-20T09:31:00         19.0\n",
       "2016-05-20T10:43:00          5.0\n",
       "2016-05-20T11:14:00          0.0"
      ]
     },
     "execution_count": 43,
     "metadata": {},
     "output_type": "execute_result"
    }
   ],
   "source": [
    "# Age of Case = AOC [MEDIAN] for individual cases\n",
    "# get substring YYYY-MM\n",
    "pothole_reports_age = pd.DataFrame(pothole_df.groupby('requested_datetime')['case_age_days'].mean())\n",
    "# pothole_reports_AOC = pothole_reports_AOC.loc['2017-02':'2019-02']\n",
    "pothole_reports_age.rename(columns={'case_age_days':'Age of Case'}, inplace=True)\n",
    "pothole_reports_age.head(5)\n",
    "pothole_reports_age.reset_index(inplace=True)"
   ]
  },
  {
   "cell_type": "code",
   "execution_count": 45,
   "metadata": {},
   "outputs": [
    {
     "data": {
      "text/plain": [
       "<matplotlib.axes._subplots.AxesSubplot at 0x1243fe7f0>"
      ]
     },
     "execution_count": 45,
     "metadata": {},
     "output_type": "execute_result"
    },
    {
     "data": {
      "image/png": "[encoded data removed]",
      "text/plain": [
       "<Figure size 432x288 with 1 Axes>"
      ]
     },
     "metadata": {
      "needs_background": "light"
     },
     "output_type": "display_data"
    }
   ],
   "source": [
    "pothole_reports_age.boxplot(column=\"Age of Case\")\n",
    "plt.show()"
   ]
  },
  {
   "cell_type": "code",
   "execution_count": 8,
   "metadata": {},
   "outputs": [
    {
     "data": {
      "text/html": [
       "<div>\n",
       "<style scoped>\n",
       "    .dataframe tbody tr th:only-of-type {\n",
       "        vertical-align: middle;\n",
       "    }\n",
       "\n",
       "    .dataframe tbody tr th {\n",
       "        vertical-align: top;\n",
       "    }\n",
       "\n",
       "    .dataframe thead th {\n",
       "        text-align: right;\n",
       "    }\n",
       "</style>\n",
       "<table border=\"1\" class=\"dataframe\">\n",
       "  <thead>\n",
       "    <tr style=\"text-align: right;\">\n",
       "      <th></th>\n",
       "      <th>Median Age of Case</th>\n",
       "    </tr>\n",
       "    <tr>\n",
       "      <th>Month</th>\n",
       "      <th></th>\n",
       "    </tr>\n",
       "  </thead>\n",
       "  <tbody>\n",
       "    <tr>\n",
       "      <th>2017-02</th>\n",
       "      <td>23.0</td>\n",
       "    </tr>\n",
       "    <tr>\n",
       "      <th>2017-03</th>\n",
       "      <td>41.0</td>\n",
       "    </tr>\n",
       "    <tr>\n",
       "      <th>2017-04</th>\n",
       "      <td>34.0</td>\n",
       "    </tr>\n",
       "    <tr>\n",
       "      <th>2017-05</th>\n",
       "      <td>42.0</td>\n",
       "    </tr>\n",
       "    <tr>\n",
       "      <th>2017-06</th>\n",
       "      <td>33.0</td>\n",
       "    </tr>\n",
       "  </tbody>\n",
       "</table>\n",
       "</div>"
      ],
      "text/plain": [
       "         Median Age of Case\n",
       "Month                      \n",
       "2017-02                23.0\n",
       "2017-03                41.0\n",
       "2017-04                34.0\n",
       "2017-05                42.0\n",
       "2017-06                33.0"
      ]
     },
     "execution_count": 8,
     "metadata": {},
     "output_type": "execute_result"
    }
   ],
   "source": [
    "# Age of Case = AOC [MEDIAN] grouped-by month\n",
    "# get substring YYYY-MM\n",
    "pothole_df['Month'] = [ s[0:7] for s in pothole_df['requested_datetime'] ]\n",
    "pothole_reports_AOC = pd.DataFrame(pothole_df.groupby('Month')['case_age_days'].median())\n",
    "pothole_reports_AOC = pothole_reports_AOC.loc['2017-02':'2019-02']\n",
    "pothole_reports_AOC.rename(columns={'case_age_days':'Median Age of Case'}, inplace=True)\n",
    "pothole_reports_AOC.head(5)\n",
    "pothole_reports_AOC.reset_index(inplace=True)"
   ]
  },
  {
   "cell_type": "code",
   "execution_count": 36,
   "metadata": {},
   "outputs": [
    {
     "data": {
      "text/plain": [
       "Text(0.5, 1.0, '2017 - 2018 Median Age of Case by Month')"
      ]
     },
     "execution_count": 36,
     "metadata": {},
     "output_type": "execute_result"
    },
    {
     "data": {
      "text/plain": [
       "Text(0, 0.5, 'Median Age of Case (days)')"
      ]
     },
     "execution_count": 36,
     "metadata": {},
     "output_type": "execute_result"
    },
    {
     "data": {
      "text/plain": [
       "Text(0.5, 0, 'Time Period (Year-Month)')"
      ]
     },
     "execution_count": 36,
     "metadata": {},
     "output_type": "execute_result"
    },
    {
     "data": {
      "text/plain": [
       "(array([0. , 0.2, 0.4, 0.6, 0.8, 1. ]), <a list of 6 Text xticklabel objects>)"
      ]
     },
     "execution_count": 36,
     "metadata": {},
     "output_type": "execute_result"
    },
    {
     "data": {
      "text/plain": [
       "(array([0. , 0.2, 0.4, 0.6, 0.8, 1. ]), <a list of 6 Text yticklabel objects>)"
      ]
     },
     "execution_count": 36,
     "metadata": {},
     "output_type": "execute_result"
    },
    {
     "data": {
      "text/plain": [
       "<BarContainer object of 25 artists>"
      ]
     },
     "execution_count": 36,
     "metadata": {},
     "output_type": "execute_result"
    },
    {
     "data": {
      "image/png": "[encoded data removed]",
      "text/plain": [
       "<Figure size 1008x432 with 1 Axes>"
      ]
     },
     "metadata": {
      "needs_background": "light"
     },
     "output_type": "display_data"
    }
   ],
   "source": [
    "# Plot Median Age of Case (AOC) by Month\n",
    "fig = plt.subplots(figsize=(14,6))\n",
    "x_aoc = pothole_reports_AOC['Month']\n",
    "y_aoc = pothole_reports_AOC['Median Age of Case']\n",
    "plt.title(\"2017 - 2018 Median Age of Case by Month\", fontsize=16, pad=15)\n",
    "plt.ylabel(\"Median Age of Case (days)\", fontsize=14, labelpad=10)\n",
    "plt.xlabel(\"Time Period (Year-Month)\", fontsize=14, labelpad=10)\n",
    "plt.xticks(rotation=90, fontsize=12)\n",
    "plt.yticks(fontsize=12)\n",
    "plt.bar(x_aoc,y_aoc, color=\"darkorange\")"
   ]
  },
  {
   "cell_type": "code",
   "execution_count": 10,
   "metadata": {},
   "outputs": [
    {
     "data": {
      "text/html": [
       "<div>\n",
       "<style scoped>\n",
       "    .dataframe tbody tr th:only-of-type {\n",
       "        vertical-align: middle;\n",
       "    }\n",
       "\n",
       "    .dataframe tbody tr th {\n",
       "        vertical-align: top;\n",
       "    }\n",
       "\n",
       "    .dataframe thead th {\n",
       "        text-align: right;\n",
       "    }\n",
       "</style>\n",
       "<table border=\"1\" class=\"dataframe\">\n",
       "  <thead>\n",
       "    <tr style=\"text-align: right;\">\n",
       "      <th></th>\n",
       "      <th>Median Age of Case</th>\n",
       "    </tr>\n",
       "    <tr>\n",
       "      <th>Month</th>\n",
       "      <th></th>\n",
       "    </tr>\n",
       "  </thead>\n",
       "  <tbody>\n",
       "    <tr>\n",
       "      <th>2017-01</th>\n",
       "      <td>24.0</td>\n",
       "    </tr>\n",
       "    <tr>\n",
       "      <th>2017-02</th>\n",
       "      <td>23.0</td>\n",
       "    </tr>\n",
       "    <tr>\n",
       "      <th>2017-03</th>\n",
       "      <td>41.0</td>\n",
       "    </tr>\n",
       "    <tr>\n",
       "      <th>2017-04</th>\n",
       "      <td>34.0</td>\n",
       "    </tr>\n",
       "    <tr>\n",
       "      <th>2017-05</th>\n",
       "      <td>42.0</td>\n",
       "    </tr>\n",
       "  </tbody>\n",
       "</table>\n",
       "</div>"
      ],
      "text/plain": [
       "         Median Age of Case\n",
       "Month                      \n",
       "2017-01                24.0\n",
       "2017-02                23.0\n",
       "2017-03                41.0\n",
       "2017-04                34.0\n",
       "2017-05                42.0"
      ]
     },
     "execution_count": 10,
     "metadata": {},
     "output_type": "execute_result"
    }
   ],
   "source": [
    "# Age of Case = AOC [MEDIAN] - Time period 2017 grouped-by month\n",
    "pothole_df['Month'] = [ s[0:7] for s in pothole_df['requested_datetime'] ]\n",
    "pothole_reports_AOC_2017 = pd.DataFrame(pothole_df.groupby('Month')['case_age_days'].median())\n",
    "pothole_reports_AOC_2017 = pothole_reports_AOC_2017.loc['2017-01':'2017-12']\n",
    "pothole_reports_AOC_2017.rename(columns={'case_age_days':'Median Age of Case'}, inplace=True)\n",
    "pothole_reports_AOC_2017.head(5)\n",
    "pothole_reports_AOC_2017.reset_index(inplace=True)"
   ]
  },
  {
   "cell_type": "code",
   "execution_count": 11,
   "metadata": {},
   "outputs": [
    {
     "data": {
      "text/plain": [
       "Text(0.5, 1.0, '2017 Median Age of Case by Month')"
      ]
     },
     "execution_count": 11,
     "metadata": {},
     "output_type": "execute_result"
    },
    {
     "data": {
      "text/plain": [
       "Text(0, 0.5, 'Median Age of Case (days)')"
      ]
     },
     "execution_count": 11,
     "metadata": {},
     "output_type": "execute_result"
    },
    {
     "data": {
      "text/plain": [
       "Text(0.5, 0, 'Time Period (Year-Month)')"
      ]
     },
     "execution_count": 11,
     "metadata": {},
     "output_type": "execute_result"
    },
    {
     "data": {
      "text/plain": [
       "(array([0. , 0.2, 0.4, 0.6, 0.8, 1. ]), <a list of 6 Text xticklabel objects>)"
      ]
     },
     "execution_count": 11,
     "metadata": {},
     "output_type": "execute_result"
    },
    {
     "data": {
      "text/plain": [
       "(array([0. , 0.2, 0.4, 0.6, 0.8, 1. ]), <a list of 6 Text yticklabel objects>)"
      ]
     },
     "execution_count": 11,
     "metadata": {},
     "output_type": "execute_result"
    },
    {
     "data": {
      "text/plain": [
       "<BarContainer object of 12 artists>"
      ]
     },
     "execution_count": 11,
     "metadata": {},
     "output_type": "execute_result"
    },
    {
     "data": {
      "image/png": "[encoded data removed]",
      "text/plain": [
       "<Figure size 1008x432 with 1 Axes>"
      ]
     },
     "metadata": {
      "needs_background": "light"
     },
     "output_type": "display_data"
    }
   ],
   "source": [
    "# Plot Median Age of Case (AOC) by Month\n",
    "fig = plt.subplots(figsize=(14,6))\n",
    "x17_aoc = pothole_reports_AOC_2017['Month']\n",
    "y17_aoc = pothole_reports_AOC_2017['Median Age of Case']\n",
    "plt.title(\"2017 Median Age of Case by Month\", fontsize=16, pad=15)\n",
    "plt.ylabel(\"Median Age of Case (days)\", fontsize=14, labelpad=10)\n",
    "plt.xlabel(\"Time Period (Year-Month)\", fontsize=14, labelpad=10)\n",
    "plt.xticks(rotation=90, fontsize=12)\n",
    "plt.yticks(fontsize=12)\n",
    "plt.bar(x17_aoc,y17_aoc, color=\"green\")"
   ]
  },
  {
   "cell_type": "code",
   "execution_count": 12,
   "metadata": {},
   "outputs": [
    {
     "data": {
      "text/html": [
       "<div>\n",
       "<style scoped>\n",
       "    .dataframe tbody tr th:only-of-type {\n",
       "        vertical-align: middle;\n",
       "    }\n",
       "\n",
       "    .dataframe tbody tr th {\n",
       "        vertical-align: top;\n",
       "    }\n",
       "\n",
       "    .dataframe thead th {\n",
       "        text-align: right;\n",
       "    }\n",
       "</style>\n",
       "<table border=\"1\" class=\"dataframe\">\n",
       "  <thead>\n",
       "    <tr style=\"text-align: right;\">\n",
       "      <th></th>\n",
       "      <th>Median Age of Case</th>\n",
       "    </tr>\n",
       "    <tr>\n",
       "      <th>Month</th>\n",
       "      <th></th>\n",
       "    </tr>\n",
       "  </thead>\n",
       "  <tbody>\n",
       "    <tr>\n",
       "      <th>2018-01</th>\n",
       "      <td>13.0</td>\n",
       "    </tr>\n",
       "    <tr>\n",
       "      <th>2018-02</th>\n",
       "      <td>14.0</td>\n",
       "    </tr>\n",
       "    <tr>\n",
       "      <th>2018-03</th>\n",
       "      <td>40.0</td>\n",
       "    </tr>\n",
       "    <tr>\n",
       "      <th>2018-04</th>\n",
       "      <td>31.0</td>\n",
       "    </tr>\n",
       "    <tr>\n",
       "      <th>2018-05</th>\n",
       "      <td>28.0</td>\n",
       "    </tr>\n",
       "  </tbody>\n",
       "</table>\n",
       "</div>"
      ],
      "text/plain": [
       "         Median Age of Case\n",
       "Month                      \n",
       "2018-01                13.0\n",
       "2018-02                14.0\n",
       "2018-03                40.0\n",
       "2018-04                31.0\n",
       "2018-05                28.0"
      ]
     },
     "execution_count": 12,
     "metadata": {},
     "output_type": "execute_result"
    }
   ],
   "source": [
    "# Age of Case = AOC [MEDIAN] - Time period 2018 grouped-by month\n",
    "pothole_df['Month'] = [ s[0:7] for s in pothole_df['requested_datetime'] ]\n",
    "pothole_reports_AOC_2018 = pd.DataFrame(pothole_df.groupby('Month')['case_age_days'].median())\n",
    "pothole_reports_AOC_2018 = pothole_reports_AOC_2018.loc['2018-01':'2018-12']\n",
    "pothole_reports_AOC_2018.rename(columns={'case_age_days':'Median Age of Case'}, inplace=True)\n",
    "pothole_reports_AOC_2018.head(5)\n",
    "pothole_reports_AOC_2018.reset_index(inplace=True)"
   ]
  },
  {
   "cell_type": "code",
   "execution_count": 13,
   "metadata": {},
   "outputs": [
    {
     "data": {
      "text/plain": [
       "Text(0.5, 1.0, '2018 Median Age of Case by Month')"
      ]
     },
     "execution_count": 13,
     "metadata": {},
     "output_type": "execute_result"
    },
    {
     "data": {
      "text/plain": [
       "Text(0, 0.5, 'Median Age of Case (days)')"
      ]
     },
     "execution_count": 13,
     "metadata": {},
     "output_type": "execute_result"
    },
    {
     "data": {
      "text/plain": [
       "Text(0.5, 0, 'Time Period (Year-Month)')"
      ]
     },
     "execution_count": 13,
     "metadata": {},
     "output_type": "execute_result"
    },
    {
     "data": {
      "text/plain": [
       "(array([0. , 0.2, 0.4, 0.6, 0.8, 1. ]), <a list of 6 Text xticklabel objects>)"
      ]
     },
     "execution_count": 13,
     "metadata": {},
     "output_type": "execute_result"
    },
    {
     "data": {
      "text/plain": [
       "(array([0. , 0.2, 0.4, 0.6, 0.8, 1. ]), <a list of 6 Text yticklabel objects>)"
      ]
     },
     "execution_count": 13,
     "metadata": {},
     "output_type": "execute_result"
    },
    {
     "data": {
      "text/plain": [
       "<BarContainer object of 12 artists>"
      ]
     },
     "execution_count": 13,
     "metadata": {},
     "output_type": "execute_result"
    },
    {
     "data": {
      "image/png": "[encoded data removed]",
      "text/plain": [
       "<Figure size 1008x432 with 1 Axes>"
      ]
     },
     "metadata": {
      "needs_background": "light"
     },
     "output_type": "display_data"
    }
   ],
   "source": [
    "# Plot Median Age of Case (AOC) by Month\n",
    "fig = plt.subplots(figsize=(14,6))\n",
    "x18_aoc = pothole_reports_AOC_2018['Month']\n",
    "y18_aoc = pothole_reports_AOC_2018['Median Age of Case']\n",
    "plt.title(\"2018 Median Age of Case by Month\", fontsize=16, pad=15)\n",
    "plt.ylabel(\"Median Age of Case (days)\", fontsize=14, labelpad=10)\n",
    "plt.xlabel(\"Time Period (Year-Month)\", fontsize=14, labelpad=10)\n",
    "plt.xticks(rotation=90, fontsize=12)\n",
    "plt.yticks(fontsize=12)\n",
    "plt.bar(x18_aoc,y18_aoc, color=\"purple\")"
   ]
  },
  {
   "cell_type": "code",
   "execution_count": 14,
   "metadata": {},
   "outputs": [
    {
     "data": {
      "text/plain": [
       "Text(0.5, 1.0, '2018 Median Age of Case by Month')"
      ]
     },
     "execution_count": 14,
     "metadata": {},
     "output_type": "execute_result"
    },
    {
     "data": {
      "text/plain": [
       "Text(0, 0.5, 'Median Age of Case (days)')"
      ]
     },
     "execution_count": 14,
     "metadata": {},
     "output_type": "execute_result"
    },
    {
     "data": {
      "text/plain": [
       "Text(0.5, 0, 'Time Period (Year-Month)')"
      ]
     },
     "execution_count": 14,
     "metadata": {},
     "output_type": "execute_result"
    },
    {
     "data": {
      "text/plain": [
       "(array([0. , 0.2, 0.4, 0.6, 0.8, 1. ]), <a list of 6 Text xticklabel objects>)"
      ]
     },
     "execution_count": 14,
     "metadata": {},
     "output_type": "execute_result"
    },
    {
     "data": {
      "text/plain": [
       "(array([0. , 0.2, 0.4, 0.6, 0.8, 1. ]), <a list of 6 Text yticklabel objects>)"
      ]
     },
     "execution_count": 14,
     "metadata": {},
     "output_type": "execute_result"
    },
    {
     "data": {
      "text/plain": [
       "<BarContainer object of 12 artists>"
      ]
     },
     "execution_count": 14,
     "metadata": {},
     "output_type": "execute_result"
    },
    {
     "data": {
      "text/plain": [
       "<BarContainer object of 12 artists>"
      ]
     },
     "execution_count": 14,
     "metadata": {},
     "output_type": "execute_result"
    },
    {
     "data": {
      "image/png": "[encoded data removed]",
      "text/plain": [
       "<Figure size 1008x432 with 1 Axes>"
      ]
     },
     "metadata": {
      "needs_background": "light"
     },
     "output_type": "display_data"
    }
   ],
   "source": [
    "# Plot Median Age of Case (AOC) by Month\n",
    "fig = plt.subplots(figsize=(14,6))\n",
    "plt.title(\"2018 Median Age of Case by Month\", fontsize=16, pad=15)\n",
    "plt.ylabel(\"Median Age of Case (days)\", fontsize=14, labelpad=10)\n",
    "plt.xlabel(\"Time Period (Year-Month)\", fontsize=14, labelpad=10)\n",
    "plt.xticks(rotation=90, fontsize=12)\n",
    "plt.yticks(fontsize=12)\n",
    "plt.bar(x17_aoc,y17_aoc, color=\"green\")\n",
    "plt.bar(x18_aoc,y18_aoc, color=\"purple\")"
   ]
  },
  {
   "cell_type": "code",
   "execution_count": 81,
   "metadata": {},
   "outputs": [
    {
     "data": {
      "text/plain": [
       "Text(0.5, 1.0, '2018 Median Age of Case by Month')"
      ]
     },
     "execution_count": 81,
     "metadata": {},
     "output_type": "execute_result"
    },
    {
     "data": {
      "text/plain": [
       "Text(0, 0.5, 'Median Age of Case (days)')"
      ]
     },
     "execution_count": 81,
     "metadata": {},
     "output_type": "execute_result"
    },
    {
     "data": {
      "text/plain": [
       "Text(0.5, 0, 'Time Period (Year-Month)')"
      ]
     },
     "execution_count": 81,
     "metadata": {},
     "output_type": "execute_result"
    },
    {
     "data": {
      "text/plain": [
       "(array([0. , 0.2, 0.4, 0.6, 0.8, 1. ]), <a list of 6 Text xticklabel objects>)"
      ]
     },
     "execution_count": 81,
     "metadata": {},
     "output_type": "execute_result"
    },
    {
     "data": {
      "text/plain": [
       "(array([0. , 0.2, 0.4, 0.6, 0.8, 1. ]), <a list of 6 Text yticklabel objects>)"
      ]
     },
     "execution_count": 81,
     "metadata": {},
     "output_type": "execute_result"
    },
    {
     "data": {
      "text/plain": [
       "<BarContainer object of 12 artists>"
      ]
     },
     "execution_count": 81,
     "metadata": {},
     "output_type": "execute_result"
    },
    {
     "data": {
      "text/plain": [
       "<BarContainer object of 12 artists>"
      ]
     },
     "execution_count": 81,
     "metadata": {},
     "output_type": "execute_result"
    },
    {
     "data": {
      "image/png": "[encoded data removed]",
      "text/plain": [
       "<Figure size 1008x432 with 1 Axes>"
      ]
     },
     "metadata": {
      "needs_background": "light"
     },
     "output_type": "display_data"
    }
   ],
   "source": [
    "# Plot Median Age of Case (AOC) by Month multi-year\n",
    "months = 12\n",
    "mon = np.arange(months)  # the x locations for the month groups\n",
    "width = 0.27\n",
    "month_labels =[\"Jan\",\"Feb\",\"Mar\",\"Apr\",\"May\",\"Jun\",\"Jul\",\"Aug\",\"Sep\",\"Oct\",\"Nov\",\"Dec\"]\n",
    "\n",
    "fig = plt.subplots(figsize=(14,6))\n",
    "plt.title(\"2018 Median Age of Case by Month\", fontsize=16, pad=15)\n",
    "plt.ylabel(\"Median Age of Case (days)\", fontsize=14, labelpad=10)\n",
    "plt.xlabel(\"Time Period (Year-Month)\", fontsize=14, labelpad=10)\n",
    "plt.xticks(rotation=45, fontsize=12)\n",
    "plt.yticks(fontsize=12)\n",
    "plt.bar(mon+width,y17_aoc, width, color=\"green\", tick_label=month_labels)\n",
    "plt.bar(mon+width*2,y18_aoc, width, color=\"purple\")"
   ]
  },
  {
   "cell_type": "markdown",
   "metadata": {},
   "source": [
    "### Number of Service Requests by Month"
   ]
  },
  {
   "cell_type": "code",
   "execution_count": 16,
   "metadata": {},
   "outputs": [
    {
     "data": {
      "text/html": [
       "<div>\n",
       "<style scoped>\n",
       "    .dataframe tbody tr th:only-of-type {\n",
       "        vertical-align: middle;\n",
       "    }\n",
       "\n",
       "    .dataframe tbody tr th {\n",
       "        vertical-align: top;\n",
       "    }\n",
       "\n",
       "    .dataframe thead th {\n",
       "        text-align: right;\n",
       "    }\n",
       "</style>\n",
       "<table border=\"1\" class=\"dataframe\">\n",
       "  <thead>\n",
       "    <tr style=\"text-align: right;\">\n",
       "      <th></th>\n",
       "      <th>2017 Service Requests</th>\n",
       "    </tr>\n",
       "    <tr>\n",
       "      <th>Month</th>\n",
       "      <th></th>\n",
       "    </tr>\n",
       "  </thead>\n",
       "  <tbody>\n",
       "    <tr>\n",
       "      <th>2017-01</th>\n",
       "      <td>6070</td>\n",
       "    </tr>\n",
       "    <tr>\n",
       "      <th>2017-02</th>\n",
       "      <td>3016</td>\n",
       "    </tr>\n",
       "    <tr>\n",
       "      <th>2017-03</th>\n",
       "      <td>3510</td>\n",
       "    </tr>\n",
       "    <tr>\n",
       "      <th>2017-04</th>\n",
       "      <td>2098</td>\n",
       "    </tr>\n",
       "    <tr>\n",
       "      <th>2017-05</th>\n",
       "      <td>1697</td>\n",
       "    </tr>\n",
       "    <tr>\n",
       "      <th>2017-06</th>\n",
       "      <td>1159</td>\n",
       "    </tr>\n",
       "    <tr>\n",
       "      <th>2017-07</th>\n",
       "      <td>915</td>\n",
       "    </tr>\n",
       "    <tr>\n",
       "      <th>2017-08</th>\n",
       "      <td>753</td>\n",
       "    </tr>\n",
       "    <tr>\n",
       "      <th>2017-09</th>\n",
       "      <td>587</td>\n",
       "    </tr>\n",
       "    <tr>\n",
       "      <th>2017-10</th>\n",
       "      <td>679</td>\n",
       "    </tr>\n",
       "    <tr>\n",
       "      <th>2017-11</th>\n",
       "      <td>705</td>\n",
       "    </tr>\n",
       "    <tr>\n",
       "      <th>2017-12</th>\n",
       "      <td>535</td>\n",
       "    </tr>\n",
       "  </tbody>\n",
       "</table>\n",
       "</div>"
      ],
      "text/plain": [
       "         2017 Service Requests\n",
       "Month                         \n",
       "2017-01                   6070\n",
       "2017-02                   3016\n",
       "2017-03                   3510\n",
       "2017-04                   2098\n",
       "2017-05                   1697\n",
       "2017-06                   1159\n",
       "2017-07                    915\n",
       "2017-08                    753\n",
       "2017-09                    587\n",
       "2017-10                    679\n",
       "2017-11                    705\n",
       "2017-12                    535"
      ]
     },
     "execution_count": 16,
     "metadata": {},
     "output_type": "execute_result"
    }
   ],
   "source": [
    "# Number of Service Requests by Month\n",
    "# get substring YYYY-MM\n",
    "pothole_df['Month'] = [ s[0:7] for s in pothole_df['requested_datetime'] ]\n",
    "pothole_reports_cnt = pd.DataFrame(pothole_df.groupby('Month')['Month'].count())\n",
    "# Time Period Jan 2017 to Dec 2018\n",
    "pothole_reports_cnt = pothole_reports_cnt.loc['2017-01':'2017-12']\n",
    "pothole_reports_cnt.rename(columns={'Month':'2017 Service Requests'}, inplace=True)\n",
    "pothole_reports_cnt.head(26)\n",
    "pothole_reports_cnt.reset_index(inplace=True)"
   ]
  },
  {
   "cell_type": "code",
   "execution_count": 25,
   "metadata": {},
   "outputs": [
    {
     "data": {
      "text/html": [
       "<div>\n",
       "<style scoped>\n",
       "    .dataframe tbody tr th:only-of-type {\n",
       "        vertical-align: middle;\n",
       "    }\n",
       "\n",
       "    .dataframe tbody tr th {\n",
       "        vertical-align: top;\n",
       "    }\n",
       "\n",
       "    .dataframe thead th {\n",
       "        text-align: right;\n",
       "    }\n",
       "</style>\n",
       "<table border=\"1\" class=\"dataframe\">\n",
       "  <thead>\n",
       "    <tr style=\"text-align: right;\">\n",
       "      <th></th>\n",
       "      <th>Service Requests</th>\n",
       "    </tr>\n",
       "    <tr>\n",
       "      <th>Month</th>\n",
       "      <th></th>\n",
       "    </tr>\n",
       "  </thead>\n",
       "  <tbody>\n",
       "    <tr>\n",
       "      <th>2017-01</th>\n",
       "      <td>6070</td>\n",
       "    </tr>\n",
       "    <tr>\n",
       "      <th>2017-02</th>\n",
       "      <td>3016</td>\n",
       "    </tr>\n",
       "    <tr>\n",
       "      <th>2017-03</th>\n",
       "      <td>3510</td>\n",
       "    </tr>\n",
       "    <tr>\n",
       "      <th>2017-04</th>\n",
       "      <td>2098</td>\n",
       "    </tr>\n",
       "    <tr>\n",
       "      <th>2017-05</th>\n",
       "      <td>1697</td>\n",
       "    </tr>\n",
       "    <tr>\n",
       "      <th>2017-06</th>\n",
       "      <td>1159</td>\n",
       "    </tr>\n",
       "    <tr>\n",
       "      <th>2017-07</th>\n",
       "      <td>915</td>\n",
       "    </tr>\n",
       "    <tr>\n",
       "      <th>2017-08</th>\n",
       "      <td>753</td>\n",
       "    </tr>\n",
       "    <tr>\n",
       "      <th>2017-09</th>\n",
       "      <td>587</td>\n",
       "    </tr>\n",
       "    <tr>\n",
       "      <th>2017-10</th>\n",
       "      <td>679</td>\n",
       "    </tr>\n",
       "    <tr>\n",
       "      <th>2017-11</th>\n",
       "      <td>705</td>\n",
       "    </tr>\n",
       "    <tr>\n",
       "      <th>2017-12</th>\n",
       "      <td>535</td>\n",
       "    </tr>\n",
       "  </tbody>\n",
       "</table>\n",
       "</div>"
      ],
      "text/plain": [
       "         Service Requests\n",
       "Month                    \n",
       "2017-01              6070\n",
       "2017-02              3016\n",
       "2017-03              3510\n",
       "2017-04              2098\n",
       "2017-05              1697\n",
       "2017-06              1159\n",
       "2017-07               915\n",
       "2017-08               753\n",
       "2017-09               587\n",
       "2017-10               679\n",
       "2017-11               705\n",
       "2017-12               535"
      ]
     },
     "execution_count": 25,
     "metadata": {},
     "output_type": "execute_result"
    }
   ],
   "source": [
    "# Time Period 2017\n",
    "pothole_reports_cnt = pd.DataFrame(pothole_df.groupby('Month')['Month'].count())\n",
    "pothole_reports_cnt_2017 = pothole_reports_cnt.loc['2017-01':'2017-12']\n",
    "pothole_reports_cnt_2017.rename(columns={'Month':'Service Requests'}, inplace=True)\n",
    "pothole_reports_cnt_2017.head(12)\n",
    "pothole_reports_cnt_2017.reset_index(inplace=True)"
   ]
  },
  {
   "cell_type": "code",
   "execution_count": 26,
   "metadata": {},
   "outputs": [
    {
     "data": {
      "text/html": [
       "<div>\n",
       "<style scoped>\n",
       "    .dataframe tbody tr th:only-of-type {\n",
       "        vertical-align: middle;\n",
       "    }\n",
       "\n",
       "    .dataframe tbody tr th {\n",
       "        vertical-align: top;\n",
       "    }\n",
       "\n",
       "    .dataframe thead th {\n",
       "        text-align: right;\n",
       "    }\n",
       "</style>\n",
       "<table border=\"1\" class=\"dataframe\">\n",
       "  <thead>\n",
       "    <tr style=\"text-align: right;\">\n",
       "      <th></th>\n",
       "      <th>Service Requests</th>\n",
       "    </tr>\n",
       "    <tr>\n",
       "      <th>Month</th>\n",
       "      <th></th>\n",
       "    </tr>\n",
       "  </thead>\n",
       "  <tbody>\n",
       "    <tr>\n",
       "      <th>2018-01</th>\n",
       "      <td>1084</td>\n",
       "    </tr>\n",
       "    <tr>\n",
       "      <th>2018-02</th>\n",
       "      <td>911</td>\n",
       "    </tr>\n",
       "    <tr>\n",
       "      <th>2018-03</th>\n",
       "      <td>1535</td>\n",
       "    </tr>\n",
       "    <tr>\n",
       "      <th>2018-04</th>\n",
       "      <td>1359</td>\n",
       "    </tr>\n",
       "    <tr>\n",
       "      <th>2018-05</th>\n",
       "      <td>1009</td>\n",
       "    </tr>\n",
       "    <tr>\n",
       "      <th>2018-06</th>\n",
       "      <td>778</td>\n",
       "    </tr>\n",
       "    <tr>\n",
       "      <th>2018-07</th>\n",
       "      <td>647</td>\n",
       "    </tr>\n",
       "    <tr>\n",
       "      <th>2018-08</th>\n",
       "      <td>668</td>\n",
       "    </tr>\n",
       "    <tr>\n",
       "      <th>2018-09</th>\n",
       "      <td>654</td>\n",
       "    </tr>\n",
       "    <tr>\n",
       "      <th>2018-10</th>\n",
       "      <td>809</td>\n",
       "    </tr>\n",
       "    <tr>\n",
       "      <th>2018-11</th>\n",
       "      <td>593</td>\n",
       "    </tr>\n",
       "    <tr>\n",
       "      <th>2018-12</th>\n",
       "      <td>1247</td>\n",
       "    </tr>\n",
       "  </tbody>\n",
       "</table>\n",
       "</div>"
      ],
      "text/plain": [
       "         Service Requests\n",
       "Month                    \n",
       "2018-01              1084\n",
       "2018-02               911\n",
       "2018-03              1535\n",
       "2018-04              1359\n",
       "2018-05              1009\n",
       "2018-06               778\n",
       "2018-07               647\n",
       "2018-08               668\n",
       "2018-09               654\n",
       "2018-10               809\n",
       "2018-11               593\n",
       "2018-12              1247"
      ]
     },
     "execution_count": 26,
     "metadata": {},
     "output_type": "execute_result"
    }
   ],
   "source": [
    "# Time Period 2018\n",
    "pothole_reports_cnt = pd.DataFrame(pothole_df.groupby('Month')['Month'].count())\n",
    "pothole_reports_cnt_2018 = pothole_reports_cnt.loc['2018-01':'2018-12']\n",
    "pothole_reports_cnt_2018.rename(columns={'Month':'Service Requests'}, inplace=True)\n",
    "pothole_reports_cnt_2018.head(12)\n",
    "pothole_reports_cnt_2018.reset_index(inplace=True)"
   ]
  },
  {
   "cell_type": "code",
   "execution_count": 27,
   "metadata": {},
   "outputs": [
    {
     "data": {
      "text/plain": [
       "Text(0.5, 1.0, 'Number of Service Requests by Month')"
      ]
     },
     "execution_count": 27,
     "metadata": {},
     "output_type": "execute_result"
    },
    {
     "data": {
      "text/plain": [
       "Text(0, 0.5, 'Service Requests (Count)')"
      ]
     },
     "execution_count": 27,
     "metadata": {},
     "output_type": "execute_result"
    },
    {
     "data": {
      "text/plain": [
       "Text(0.5, 0, 'Time Period (Year-Month)')"
      ]
     },
     "execution_count": 27,
     "metadata": {},
     "output_type": "execute_result"
    },
    {
     "data": {
      "text/plain": [
       "(array([0. , 0.2, 0.4, 0.6, 0.8, 1. ]), <a list of 6 Text xticklabel objects>)"
      ]
     },
     "execution_count": 27,
     "metadata": {},
     "output_type": "execute_result"
    },
    {
     "data": {
      "text/plain": [
       "(array([0. , 0.2, 0.4, 0.6, 0.8, 1. ]), <a list of 6 Text yticklabel objects>)"
      ]
     },
     "execution_count": 27,
     "metadata": {},
     "output_type": "execute_result"
    },
    {
     "data": {
      "text/plain": [
       "<BarContainer object of 12 artists>"
      ]
     },
     "execution_count": 27,
     "metadata": {},
     "output_type": "execute_result"
    },
    {
     "data": {
      "text/plain": [
       "<BarContainer object of 12 artists>"
      ]
     },
     "execution_count": 27,
     "metadata": {},
     "output_type": "execute_result"
    },
    {
     "data": {
      "image/png": "[encoded data removed]",
      "text/plain": [
       "<Figure size 1008x432 with 1 Axes>"
      ]
     },
     "metadata": {
      "needs_background": "light"
     },
     "output_type": "display_data"
    }
   ],
   "source": [
    "# Number of Service Requests by Month\n",
    "fig = plt.subplots(figsize=(14,6))\n",
    "x17_cnt = pothole_reports_cnt_2017['Month']\n",
    "y17_cnt = pothole_reports_cnt_2017['Service Requests']\n",
    "x18_cnt = pothole_reports_cnt_2018['Month']\n",
    "y18_cnt = pothole_reports_cnt_2018['Service Requests']\n",
    "\n",
    "plt.title(\"Number of Service Requests by Month\", fontsize=16, pad=15)\n",
    "plt.ylabel(\"Service Requests (Count)\", fontsize=14, labelpad=10)\n",
    "plt.xlabel(\"Time Period (Year-Month)\", fontsize=14, labelpad=10)\n",
    "plt.xticks(rotation=90, fontsize=12)\n",
    "plt.yticks(fontsize=12)\n",
    "plt.bar(x17_cnt,y17_cnt, color=\"green\")\n",
    "plt.bar(x18_cnt,y18_cnt, color=\"purple\")"
   ]
  },
  {
   "cell_type": "code",
   "execution_count": 88,
   "metadata": {},
   "outputs": [
    {
     "data": {
      "text/plain": [
       "Text(0.5, 1.0, 'Service Requests by Month')"
      ]
     },
     "execution_count": 88,
     "metadata": {},
     "output_type": "execute_result"
    },
    {
     "data": {
      "text/plain": [
       "Text(0, 0.5, 'Service Requests (Count))')"
      ]
     },
     "execution_count": 88,
     "metadata": {},
     "output_type": "execute_result"
    },
    {
     "data": {
      "text/plain": [
       "Text(0.5, 0, 'Time Period (Year-Month)')"
      ]
     },
     "execution_count": 88,
     "metadata": {},
     "output_type": "execute_result"
    },
    {
     "data": {
      "text/plain": [
       "(array([0. , 0.2, 0.4, 0.6, 0.8, 1. ]), <a list of 6 Text xticklabel objects>)"
      ]
     },
     "execution_count": 88,
     "metadata": {},
     "output_type": "execute_result"
    },
    {
     "data": {
      "text/plain": [
       "(array([0. , 0.2, 0.4, 0.6, 0.8, 1. ]), <a list of 6 Text yticklabel objects>)"
      ]
     },
     "execution_count": 88,
     "metadata": {},
     "output_type": "execute_result"
    },
    {
     "data": {
      "text/plain": [
       "<BarContainer object of 12 artists>"
      ]
     },
     "execution_count": 88,
     "metadata": {},
     "output_type": "execute_result"
    },
    {
     "data": {
      "text/plain": [
       "<BarContainer object of 12 artists>"
      ]
     },
     "execution_count": 88,
     "metadata": {},
     "output_type": "execute_result"
    },
    {
     "data": {
      "image/png": "[encoded data removed]",
      "text/plain": [
       "<Figure size 1008x432 with 1 Axes>"
      ]
     },
     "metadata": {
      "needs_background": "light"
     },
     "output_type": "display_data"
    }
   ],
   "source": [
    "# Plot Service Requests by Month multi-year\n",
    "months = 12\n",
    "mon = np.arange(months)  # the x locations for the month groups\n",
    "width = 0.27\n",
    "month_labels =[\"Jan\",\"Feb\",\"Mar\",\"Apr\",\"May\",\"Jun\",\"Jul\",\"Aug\",\"Sep\",\"Oct\",\"Nov\",\"Dec\"]\n",
    "\n",
    "fig = plt.subplots(figsize=(14,6))\n",
    "plt.title(\"Service Requests by Month\", fontsize=16, pad=15)\n",
    "plt.ylabel(\"Service Requests (Count))\", fontsize=14, labelpad=10)\n",
    "plt.xlabel(\"Time Period (Year-Month)\", fontsize=14, labelpad=10)\n",
    "plt.xticks(rotation=45,fontsize=12)\n",
    "plt.yticks(fontsize=12)\n",
    "plt.bar(mon+width,y17_cnt, width, color=\"green\", tick_label=month_labels)\n",
    "plt.bar(mon+width*2,y18_cnt, width, color=\"purple\")\n",
    "plt.savefig('images/service_request_month.png', bbox_inches='tight', pad_inches=0.39)"
   ]
  },
  {
   "cell_type": "markdown",
   "metadata": {},
   "source": [
    "### Age of Case by Council District"
   ]
  },
  {
   "cell_type": "code",
   "execution_count": 30,
   "metadata": {},
   "outputs": [
    {
     "data": {
      "text/html": [
       "<div>\n",
       "<style scoped>\n",
       "    .dataframe tbody tr th:only-of-type {\n",
       "        vertical-align: middle;\n",
       "    }\n",
       "\n",
       "    .dataframe tbody tr th {\n",
       "        vertical-align: top;\n",
       "    }\n",
       "\n",
       "    .dataframe thead th {\n",
       "        text-align: right;\n",
       "    }\n",
       "</style>\n",
       "<table border=\"1\" class=\"dataframe\">\n",
       "  <thead>\n",
       "    <tr style=\"text-align: right;\">\n",
       "      <th></th>\n",
       "      <th>Median Age of Case</th>\n",
       "    </tr>\n",
       "    <tr>\n",
       "      <th>district</th>\n",
       "      <th></th>\n",
       "    </tr>\n",
       "  </thead>\n",
       "  <tbody>\n",
       "    <tr>\n",
       "      <th>1.0</th>\n",
       "      <td>17.0</td>\n",
       "    </tr>\n",
       "    <tr>\n",
       "      <th>2.0</th>\n",
       "      <td>18.0</td>\n",
       "    </tr>\n",
       "    <tr>\n",
       "      <th>3.0</th>\n",
       "      <td>15.0</td>\n",
       "    </tr>\n",
       "    <tr>\n",
       "      <th>4.0</th>\n",
       "      <td>11.0</td>\n",
       "    </tr>\n",
       "    <tr>\n",
       "      <th>5.0</th>\n",
       "      <td>14.0</td>\n",
       "    </tr>\n",
       "    <tr>\n",
       "      <th>6.0</th>\n",
       "      <td>21.0</td>\n",
       "    </tr>\n",
       "    <tr>\n",
       "      <th>7.0</th>\n",
       "      <td>20.0</td>\n",
       "    </tr>\n",
       "    <tr>\n",
       "      <th>8.0</th>\n",
       "      <td>14.0</td>\n",
       "    </tr>\n",
       "    <tr>\n",
       "      <th>9.0</th>\n",
       "      <td>14.0</td>\n",
       "    </tr>\n",
       "  </tbody>\n",
       "</table>\n",
       "</div>"
      ],
      "text/plain": [
       "          Median Age of Case\n",
       "district                    \n",
       "1.0                     17.0\n",
       "2.0                     18.0\n",
       "3.0                     15.0\n",
       "4.0                     11.0\n",
       "5.0                     14.0\n",
       "6.0                     21.0\n",
       "7.0                     20.0\n",
       "8.0                     14.0\n",
       "9.0                     14.0"
      ]
     },
     "execution_count": 30,
     "metadata": {},
     "output_type": "execute_result"
    }
   ],
   "source": [
    "# get substring YYYY-MM\n",
    "pothole_reports_CD = pothole_df[[\"case_age_days\",\"district\"]]\n",
    "pothole_reports_CD = pd.DataFrame(pothole_df.groupby('district')['case_age_days'].median())\n",
    "pothole_reports_CD.rename(columns={'case_age_days':'Median Age of Case'}, inplace=True)\n",
    "pothole_reports_CD = pothole_reports_CD.iloc[:,:]\n",
    "pothole_reports_CD.head(10)\n",
    "pothole_reports_CD.reset_index(inplace=True)"
   ]
  },
  {
   "cell_type": "code",
   "execution_count": 63,
   "metadata": {},
   "outputs": [
    {
     "data": {
      "text/plain": [
       "(array([0. , 0.2, 0.4, 0.6, 0.8, 1. ]), <a list of 6 Text xticklabel objects>)"
      ]
     },
     "execution_count": 63,
     "metadata": {},
     "output_type": "execute_result"
    },
    {
     "data": {
      "text/plain": [
       "<BarContainer object of 9 artists>"
      ]
     },
     "execution_count": 63,
     "metadata": {},
     "output_type": "execute_result"
    },
    {
     "data": {
      "text/plain": [
       "Text(0.5, 1.0, 'Age of Case by Council District')"
      ]
     },
     "execution_count": 63,
     "metadata": {},
     "output_type": "execute_result"
    },
    {
     "data": {
      "text/plain": [
       "Text(0.5, 0, 'Council District')"
      ]
     },
     "execution_count": 63,
     "metadata": {},
     "output_type": "execute_result"
    },
    {
     "data": {
      "text/plain": [
       "Text(0, 0.5, 'Median Age of Case (days)')"
      ]
     },
     "execution_count": 63,
     "metadata": {},
     "output_type": "execute_result"
    },
    {
     "data": {
      "image/png": "[encoded data removed]",
      "text/plain": [
       "<Figure size 504x432 with 1 Axes>"
      ]
     },
     "metadata": {
      "needs_background": "light"
     },
     "output_type": "display_data"
    }
   ],
   "source": [
    "# Bar plot Age of Case by Council District\n",
    "council_districts = 9\n",
    "district = np.arange(months)  # the x locations for the month groups\n",
    "width = 0.27\n",
    "district_labels =[\"District 1\",\"District 2\",\"District 3\",\"District 4\",\"District 5\",\"District 6\",\"District 7\",\"District 8\",\"District 9\"]\n",
    "\n",
    "fig = plt.subplots(figsize=(7,6))\n",
    "x_cd = pothole_reports_CD['district']\n",
    "y_cd = pothole_reports_CD['Median Age of Case']\n",
    "\n",
    "plt.xticks(fontsize=12, rotation=90)\n",
    "plt.bar(x_cd,y_cd, color=\"lightseagreen\", tick_label=district_labels)\n",
    "plt.title(\"Age of Case by Council District\", fontsize=16, pad=15)\n",
    "plt.xlabel(\"Council District\", fontsize=14, labelpad=10)\n",
    "plt.ylabel(\"Median Age of Case (days)\", fontsize=14, labelpad=10)\n",
    "plt.show()"
   ]
  },
  {
   "cell_type": "code",
   "execution_count": 66,
   "metadata": {},
   "outputs": [
    {
     "data": {
      "text/plain": [
       "<matplotlib.axes._subplots.AxesSubplot at 0x125d942b0>"
      ]
     },
     "execution_count": 66,
     "metadata": {},
     "output_type": "execute_result"
    },
    {
     "data": {
      "text/plain": [
       "Text(0.5, 0, 'Council District')"
      ]
     },
     "execution_count": 66,
     "metadata": {},
     "output_type": "execute_result"
    },
    {
     "data": {
      "text/plain": [
       "Text(0, 0.5, 'Age of Case (days)')"
      ]
     },
     "execution_count": 66,
     "metadata": {},
     "output_type": "execute_result"
    },
    {
     "data": {
      "image/png": "[encoded data removed]",
      "text/plain": [
       "<Figure size 432x288 with 1 Axes>"
      ]
     },
     "metadata": {
      "needs_background": "light"
     },
     "output_type": "display_data"
    }
   ],
   "source": [
    "pothole_reports_CD_box = pothole_df[[\"case_age_days\",\"district\"]]\n",
    "pothole_reports_CD_box.boxplot(column=\"case_age_days\", by=\"district\")\n",
    "# plt.xticks(range(len(district_labels)), district_labels, fontsize=12, rotation=90)\n",
    "# plt.title(\"Age of Case by Council District\", fontsize=16, pad=15)\n",
    "plt.xlabel(\"Council District\", fontsize=14, labelpad=10)\n",
    "plt.ylabel(\"Age of Case (days)\", fontsize=14, labelpad=10)\n",
    "plt.show()"
   ]
  },
  {
   "cell_type": "code",
   "execution_count": null,
   "metadata": {},
   "outputs": [],
   "source": []
  }
 ],
 "metadata": {
  "kernelspec": {
   "display_name": "Python 3",
   "language": "python",
   "name": "python3"
  },
  "language_info": {
   "codemirror_mode": {
    "name": "ipython",
    "version": 3
   },
   "file_extension": ".py",
   "mimetype": "text/x-python",
   "name": "python",
   "nbconvert_exporter": "python",
   "pygments_lexer": "ipython3",
   "version": "3.7.1"
  }
 },
 "nbformat": 4,
 "nbformat_minor": 2
}
