{
 "cells": [
  {
   "cell_type": "code",
   "execution_count": 1,
   "metadata": {},
   "outputs": [],
   "source": [
    "# WordCloud public_description column from pothole data set\n",
    "# https://www.datacamp.com/community/tutorials/wordcloud-python"
   ]
  },
  {
   "cell_type": "code",
   "execution_count": 2,
   "metadata": {},
   "outputs": [
    {
     "name": "stdout",
     "output_type": "stream",
     "text": [
      "Requirement already satisfied: wordcloud in /Users/jamesmcarter/anaconda3/lib/python3.7/site-packages (1.5.0)\r\n",
      "Requirement already satisfied: pillow in /Users/jamesmcarter/anaconda3/lib/python3.7/site-packages (from wordcloud) (5.3.0)\r\n",
      "Requirement already satisfied: numpy>=1.6.1 in /Users/jamesmcarter/anaconda3/lib/python3.7/site-packages (from wordcloud) (1.15.4)\r\n"
     ]
    }
   ],
   "source": [
    "! pip install wordcloud"
   ]
  },
  {
   "cell_type": "code",
   "execution_count": 3,
   "metadata": {},
   "outputs": [],
   "source": [
    "# Start with loading all necessary libraries\n",
    "import numpy as np\n",
    "import pandas as pd\n",
    "from os import path\n",
    "from PIL import Image\n",
    "from wordcloud import WordCloud, STOPWORDS, ImageColorGenerator\n",
    "\n",
    "import matplotlib.pyplot as plt"
   ]
  },
  {
   "cell_type": "code",
   "execution_count": 4,
   "metadata": {},
   "outputs": [
    {
     "data": {
      "text/html": [
       "<div>\n",
       "<style scoped>\n",
       "    .dataframe tbody tr th:only-of-type {\n",
       "        vertical-align: middle;\n",
       "    }\n",
       "\n",
       "    .dataframe tbody tr th {\n",
       "        vertical-align: top;\n",
       "    }\n",
       "\n",
       "    .dataframe thead th {\n",
       "        text-align: right;\n",
       "    }\n",
       "</style>\n",
       "<table border=\"1\" class=\"dataframe\">\n",
       "  <thead>\n",
       "    <tr style=\"text-align: right;\">\n",
       "      <th></th>\n",
       "      <th>service_request_id</th>\n",
       "      <th>requested_datetime</th>\n",
       "      <th>case_age_days</th>\n",
       "      <th>service_name</th>\n",
       "      <th>case_record_type</th>\n",
       "      <th>updated_datetime</th>\n",
       "      <th>status</th>\n",
       "      <th>lat</th>\n",
       "      <th>long</th>\n",
       "      <th>district</th>\n",
       "      <th>case_origin</th>\n",
       "      <th>referred_department</th>\n",
       "      <th>public_description</th>\n",
       "    </tr>\n",
       "  </thead>\n",
       "  <tbody>\n",
       "    <tr>\n",
       "      <th>0</th>\n",
       "      <td>80508</td>\n",
       "      <td>2016-05-20T08:55:00</td>\n",
       "      <td>0.0</td>\n",
       "      <td>Pothole</td>\n",
       "      <td>TSW</td>\n",
       "      <td>2016-05-20T16:42:00</td>\n",
       "      <td>Closed</td>\n",
       "      <td>32.831881</td>\n",
       "      <td>-117.231233</td>\n",
       "      <td>2.0</td>\n",
       "      <td>Phone</td>\n",
       "      <td>NaN</td>\n",
       "      <td>test only, please dont create a notification</td>\n",
       "    </tr>\n",
       "    <tr>\n",
       "      <th>1</th>\n",
       "      <td>80510</td>\n",
       "      <td>2016-05-20T09:05:00</td>\n",
       "      <td>0.0</td>\n",
       "      <td>Pothole</td>\n",
       "      <td>TSW</td>\n",
       "      <td>2016-05-20T16:42:00</td>\n",
       "      <td>Closed</td>\n",
       "      <td>32.716021</td>\n",
       "      <td>-117.159052</td>\n",
       "      <td>3.0</td>\n",
       "      <td>Web</td>\n",
       "      <td>NaN</td>\n",
       "      <td>Test Only - Please close</td>\n",
       "    </tr>\n",
       "    <tr>\n",
       "      <th>2</th>\n",
       "      <td>80518</td>\n",
       "      <td>2016-05-20T09:31:00</td>\n",
       "      <td>19.0</td>\n",
       "      <td>Pothole</td>\n",
       "      <td>TSW</td>\n",
       "      <td>2016-06-07T21:39:00</td>\n",
       "      <td>Closed</td>\n",
       "      <td>32.760286</td>\n",
       "      <td>-117.104798</td>\n",
       "      <td>9.0</td>\n",
       "      <td>Phone</td>\n",
       "      <td>NaN</td>\n",
       "      <td>4000 block of copeland just before you get on ...</td>\n",
       "    </tr>\n",
       "    <tr>\n",
       "      <th>3</th>\n",
       "      <td>80531</td>\n",
       "      <td>2016-05-20T10:43:00</td>\n",
       "      <td>5.0</td>\n",
       "      <td>Pothole</td>\n",
       "      <td>TSW</td>\n",
       "      <td>2016-05-25T22:37:00</td>\n",
       "      <td>Closed</td>\n",
       "      <td>32.955916</td>\n",
       "      <td>-117.252152</td>\n",
       "      <td>1.0</td>\n",
       "      <td>Phone</td>\n",
       "      <td>NaN</td>\n",
       "      <td>LARGE P/H CAUSED VEHICLE DAMAGE</td>\n",
       "    </tr>\n",
       "    <tr>\n",
       "      <th>4</th>\n",
       "      <td>80535</td>\n",
       "      <td>2016-05-20T11:14:00</td>\n",
       "      <td>0.0</td>\n",
       "      <td>Pothole</td>\n",
       "      <td>TSW</td>\n",
       "      <td>2016-05-20T13:36:00</td>\n",
       "      <td>Closed</td>\n",
       "      <td>32.710295</td>\n",
       "      <td>-117.155278</td>\n",
       "      <td>3.0</td>\n",
       "      <td>Web</td>\n",
       "      <td>NaN</td>\n",
       "      <td>This is a test.  Please close when you receive.</td>\n",
       "    </tr>\n",
       "  </tbody>\n",
       "</table>\n",
       "</div>"
      ],
      "text/plain": [
       "   service_request_id   requested_datetime  case_age_days service_name  \\\n",
       "0               80508  2016-05-20T08:55:00            0.0      Pothole   \n",
       "1               80510  2016-05-20T09:05:00            0.0      Pothole   \n",
       "2               80518  2016-05-20T09:31:00           19.0      Pothole   \n",
       "3               80531  2016-05-20T10:43:00            5.0      Pothole   \n",
       "4               80535  2016-05-20T11:14:00            0.0      Pothole   \n",
       "\n",
       "  case_record_type     updated_datetime  status        lat        long  \\\n",
       "0              TSW  2016-05-20T16:42:00  Closed  32.831881 -117.231233   \n",
       "1              TSW  2016-05-20T16:42:00  Closed  32.716021 -117.159052   \n",
       "2              TSW  2016-06-07T21:39:00  Closed  32.760286 -117.104798   \n",
       "3              TSW  2016-05-25T22:37:00  Closed  32.955916 -117.252152   \n",
       "4              TSW  2016-05-20T13:36:00  Closed  32.710295 -117.155278   \n",
       "\n",
       "   district case_origin referred_department  \\\n",
       "0       2.0       Phone                 NaN   \n",
       "1       3.0         Web                 NaN   \n",
       "2       9.0       Phone                 NaN   \n",
       "3       1.0       Phone                 NaN   \n",
       "4       3.0         Web                 NaN   \n",
       "\n",
       "                                  public_description  \n",
       "0       test only, please dont create a notification  \n",
       "1                           Test Only - Please close  \n",
       "2  4000 block of copeland just before you get on ...  \n",
       "3                    LARGE P/H CAUSED VEHICLE DAMAGE  \n",
       "4    This is a test.  Please close when you receive.  "
      ]
     },
     "execution_count": 4,
     "metadata": {},
     "output_type": "execute_result"
    }
   ],
   "source": [
    "file = \"data/20190228_get_it_done_pothole_requests_datasd.csv\"\n",
    "df = pd.read_csv(file)\n",
    "df.head(5)\n",
    "del df['referred_department']\n",
    "del df['service_name']\n",
    "del df['case_record_type']"
   ]
  },
  {
   "cell_type": "code",
   "execution_count": 5,
   "metadata": {},
   "outputs": [
    {
     "ename": "NameError",
     "evalue": "name 'df_cloud' is not defined",
     "output_type": "error",
     "traceback": [
      "\u001b[0;31m---------------------------------------------------------------------------\u001b[0m",
      "\u001b[0;31mNameError\u001b[0m                                 Traceback (most recent call last)",
      "\u001b[0;32m<ipython-input-5-83aad36df34a>\u001b[0m in \u001b[0;36m<module>\u001b[0;34m\u001b[0m\n\u001b[1;32m      6\u001b[0m \u001b[0;31m# df_cloud.dtypes\u001b[0m\u001b[0;34m\u001b[0m\u001b[0;34m\u001b[0m\u001b[0;34m\u001b[0m\u001b[0m\n\u001b[1;32m      7\u001b[0m \u001b[0mdf_clould\u001b[0m \u001b[0;34m=\u001b[0m \u001b[0mpd\u001b[0m\u001b[0;34m.\u001b[0m\u001b[0mread_csv\u001b[0m\u001b[0;34m(\u001b[0m\u001b[0;34m\"data/pothole_text.txt\"\u001b[0m\u001b[0;34m,\u001b[0m \u001b[0mdelimiter\u001b[0m\u001b[0;34m=\u001b[0m\u001b[0;34m\"\\t\"\u001b[0m\u001b[0;34m)\u001b[0m\u001b[0;34m\u001b[0m\u001b[0;34m\u001b[0m\u001b[0m\n\u001b[0;32m----> 8\u001b[0;31m \u001b[0mtext\u001b[0m\u001b[0;34m=\u001b[0m\u001b[0mdf_cloud\u001b[0m\u001b[0;34m.\u001b[0m\u001b[0mto_string\u001b[0m\u001b[0;34m(\u001b[0m\u001b[0;34m)\u001b[0m\u001b[0;34m\u001b[0m\u001b[0;34m\u001b[0m\u001b[0m\n\u001b[0m\u001b[1;32m      9\u001b[0m \u001b[0;31m# print(text)\u001b[0m\u001b[0;34m\u001b[0m\u001b[0;34m\u001b[0m\u001b[0;34m\u001b[0m\u001b[0m\n",
      "\u001b[0;31mNameError\u001b[0m: name 'df_cloud' is not defined"
     ]
    }
   ],
   "source": [
    "# Start with one review:\n",
    "# df=df.dropna(how=\"any\")\n",
    "# df_cloud=df['public_description']\n",
    "# df_cloud.head(5)\n",
    "# df_cloud.to_string()\n",
    "# df_cloud.dtypes\n",
    "df_clould = pd.read_csv(\"data/pothole_text.txt\", delimiter=\"\\t\")\n",
    "text=df_cloud.to_string()\n",
    "# print(text)"
   ]
  },
  {
   "cell_type": "code",
   "execution_count": null,
   "metadata": {},
   "outputs": [],
   "source": [
    "# Create and generate a word cloud image:\n",
    "wordcloud = WordCloud().generate(text)\n",
    "\n",
    "# Display the generated image:\n",
    "plt.imshow(wordcloud, interpolation='bilinear')\n",
    "plt.axis(\"off\")\n",
    "plt.show()\n",
    "\n",
    "wordcloud.to_file(\"jmc39/images/pothole_word_cloud.png\")"
   ]
  },
  {
   "cell_type": "code",
   "execution_count": null,
   "metadata": {},
   "outputs": [],
   "source": [
    "# Create stopword list:\n",
    "stopwords = set(STOPWORDS)\n",
    "stopwords.update([\"the\", \"of\", \"on\", \"this\", \"a\"])\n",
    "\n",
    "# Create and generate a word cloud image:\n",
    "wordcloud = WordCloud(stopwords=stopwords, background_color=\"white\").generate(text)\n",
    "\n",
    "# Display the generated image:\n",
    "plt.imshow(wordcloud, interpolation='bilinear')\n",
    "plt.axis(\"off\")\n",
    "plt.show()"
   ]
  },
  {
   "cell_type": "code",
   "execution_count": null,
   "metadata": {},
   "outputs": [],
   "source": [
    "wordcloud.to_file(\"jmc39/images/pothole_word_cloud2.png\")"
   ]
  },
  {
   "cell_type": "code",
   "execution_count": null,
   "metadata": {},
   "outputs": [],
   "source": [
    "# pothole_mask = np.array(Image.open(\"jmc39/images/pothole_mask_2.png\"))\n",
    "# pothole_mask"
   ]
  },
  {
   "cell_type": "code",
   "execution_count": null,
   "metadata": {},
   "outputs": [],
   "source": [
    "# def transform_format(val):\n",
    "#     if val == 0:\n",
    "#         return 255\n",
    "#     elif val == 2:\n",
    "#         return 255\n",
    "#     else:\n",
    "#         return val"
   ]
  },
  {
   "cell_type": "code",
   "execution_count": null,
   "metadata": {},
   "outputs": [],
   "source": [
    "# # Transform your mask into a new one that will work with the function:\n",
    "# transformed_pothole_mask = np.ndarray((pothole_mask.shape[0],pothole_mask.shape[1]), np.int32)"
   ]
  },
  {
   "cell_type": "code",
   "execution_count": null,
   "metadata": {},
   "outputs": [],
   "source": [
    "# for i in range(len(pothole_mask)):\n",
    "#     transformed_pothole_mask[i] = list(map(transform_format, pothole_mask[i]))\n",
    "    \n",
    "# # Check the expected result of your mask\n",
    "# transformed_pothole_mask"
   ]
  },
  {
   "cell_type": "code",
   "execution_count": null,
   "metadata": {},
   "outputs": [],
   "source": []
  }
 ],
 "metadata": {
  "kernelspec": {
   "display_name": "Python 3",
   "language": "python",
   "name": "python3"
  },
  "language_info": {
   "codemirror_mode": {
    "name": "ipython",
    "version": 3
   },
   "file_extension": ".py",
   "mimetype": "text/x-python",
   "name": "python",
   "nbconvert_exporter": "python",
   "pygments_lexer": "ipython3",
   "version": "3.7.1"
  }
 },
 "nbformat": 4,
 "nbformat_minor": 2
}
