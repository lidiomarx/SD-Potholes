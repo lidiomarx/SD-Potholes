{
 "cells": [
  {
   "cell_type": "code",
   "execution_count": 1,
   "metadata": {},
   "outputs": [],
   "source": [
    "import pandas as pd\n",
    "import numpy as np\n",
    "import matplotlib.pyplot as plt"
   ]
  },
  {
   "cell_type": "code",
   "execution_count": 2,
   "metadata": {},
   "outputs": [
    {
     "name": "stdout",
     "output_type": "stream",
     "text": [
      "48305\n",
      "44582\n",
      "44568\n"
     ]
    },
    {
     "data": {
      "text/html": [
       "<div>\n",
       "<style scoped>\n",
       "    .dataframe tbody tr th:only-of-type {\n",
       "        vertical-align: middle;\n",
       "    }\n",
       "\n",
       "    .dataframe tbody tr th {\n",
       "        vertical-align: top;\n",
       "    }\n",
       "\n",
       "    .dataframe thead th {\n",
       "        text-align: right;\n",
       "    }\n",
       "</style>\n",
       "<table border=\"1\" class=\"dataframe\">\n",
       "  <thead>\n",
       "    <tr style=\"text-align: right;\">\n",
       "      <th></th>\n",
       "      <th>Unnamed: 0</th>\n",
       "      <th>service_request_id</th>\n",
       "      <th>requested_datetime</th>\n",
       "      <th>case_age_days</th>\n",
       "      <th>updated_datetime</th>\n",
       "      <th>status</th>\n",
       "      <th>lat</th>\n",
       "      <th>long</th>\n",
       "      <th>district</th>\n",
       "      <th>case_origin</th>\n",
       "    </tr>\n",
       "  </thead>\n",
       "  <tbody>\n",
       "    <tr>\n",
       "      <th>0</th>\n",
       "      <td>0</td>\n",
       "      <td>80508</td>\n",
       "      <td>2016-05-20T08:55:00</td>\n",
       "      <td>0.0</td>\n",
       "      <td>2016-05-20T16:42:00</td>\n",
       "      <td>Closed</td>\n",
       "      <td>32.831881</td>\n",
       "      <td>-117.231233</td>\n",
       "      <td>2.0</td>\n",
       "      <td>Phone</td>\n",
       "    </tr>\n",
       "    <tr>\n",
       "      <th>1</th>\n",
       "      <td>1</td>\n",
       "      <td>80510</td>\n",
       "      <td>2016-05-20T09:05:00</td>\n",
       "      <td>0.0</td>\n",
       "      <td>2016-05-20T16:42:00</td>\n",
       "      <td>Closed</td>\n",
       "      <td>32.716021</td>\n",
       "      <td>-117.159053</td>\n",
       "      <td>3.0</td>\n",
       "      <td>Web</td>\n",
       "    </tr>\n",
       "    <tr>\n",
       "      <th>2</th>\n",
       "      <td>2</td>\n",
       "      <td>80518</td>\n",
       "      <td>2016-05-20T09:31:00</td>\n",
       "      <td>19.0</td>\n",
       "      <td>2016-06-07T21:39:00</td>\n",
       "      <td>Closed</td>\n",
       "      <td>32.760286</td>\n",
       "      <td>-117.104798</td>\n",
       "      <td>9.0</td>\n",
       "      <td>Phone</td>\n",
       "    </tr>\n",
       "    <tr>\n",
       "      <th>3</th>\n",
       "      <td>3</td>\n",
       "      <td>80531</td>\n",
       "      <td>2016-05-20T10:43:00</td>\n",
       "      <td>5.0</td>\n",
       "      <td>2016-05-25T22:37:00</td>\n",
       "      <td>Closed</td>\n",
       "      <td>32.955916</td>\n",
       "      <td>-117.252152</td>\n",
       "      <td>1.0</td>\n",
       "      <td>Phone</td>\n",
       "    </tr>\n",
       "    <tr>\n",
       "      <th>4</th>\n",
       "      <td>4</td>\n",
       "      <td>80535</td>\n",
       "      <td>2016-05-20T11:14:00</td>\n",
       "      <td>0.0</td>\n",
       "      <td>2016-05-20T13:36:00</td>\n",
       "      <td>Closed</td>\n",
       "      <td>32.710295</td>\n",
       "      <td>-117.155278</td>\n",
       "      <td>3.0</td>\n",
       "      <td>Web</td>\n",
       "    </tr>\n",
       "  </tbody>\n",
       "</table>\n",
       "</div>"
      ],
      "text/plain": [
       "   Unnamed: 0  service_request_id   requested_datetime  case_age_days  \\\n",
       "0           0               80508  2016-05-20T08:55:00            0.0   \n",
       "1           1               80510  2016-05-20T09:05:00            0.0   \n",
       "2           2               80518  2016-05-20T09:31:00           19.0   \n",
       "3           3               80531  2016-05-20T10:43:00            5.0   \n",
       "4           4               80535  2016-05-20T11:14:00            0.0   \n",
       "\n",
       "      updated_datetime  status        lat        long  district case_origin  \n",
       "0  2016-05-20T16:42:00  Closed  32.831881 -117.231233       2.0       Phone  \n",
       "1  2016-05-20T16:42:00  Closed  32.716021 -117.159053       3.0         Web  \n",
       "2  2016-06-07T21:39:00  Closed  32.760286 -117.104798       9.0       Phone  \n",
       "3  2016-05-25T22:37:00  Closed  32.955916 -117.252152       1.0       Phone  \n",
       "4  2016-05-20T13:36:00  Closed  32.710295 -117.155278       3.0         Web  "
      ]
     },
     "execution_count": 2,
     "metadata": {},
     "output_type": "execute_result"
    }
   ],
   "source": [
    "file = \"../data/output.csv\"\n",
    "df = pd.read_csv(file)\n",
    "print(len(df))\n",
    "df.drop_duplicates(['lat', 'long', 'district', 'case_origin'], inplace=True)\n",
    "print(len(df))\n",
    "df = df[df.case_origin != \"Letter\"]\n",
    "df = df[df.case_origin != \"Crew/Self Generated\"]\n",
    "df = df[df.case_origin != \"Garage Run\"]\n",
    "df = df[df.case_origin != \"Route Slip\"]\n",
    "df = df[df.case_origin != \"Walk-In\"]\n",
    "print(len(df))\n",
    "df.to_csv(\"../data/cleaned_output.csv\")\n",
    "df.head()"
   ]
  },
  {
   "cell_type": "code",
   "execution_count": 3,
   "metadata": {},
   "outputs": [
    {
     "data": {
      "text/html": [
       "<div>\n",
       "<style scoped>\n",
       "    .dataframe tbody tr th:only-of-type {\n",
       "        vertical-align: middle;\n",
       "    }\n",
       "\n",
       "    .dataframe tbody tr th {\n",
       "        vertical-align: top;\n",
       "    }\n",
       "\n",
       "    .dataframe thead th {\n",
       "        text-align: right;\n",
       "    }\n",
       "</style>\n",
       "<table border=\"1\" class=\"dataframe\">\n",
       "  <thead>\n",
       "    <tr style=\"text-align: right;\">\n",
       "      <th></th>\n",
       "      <th>case_age_days</th>\n",
       "      <th>case_origin</th>\n",
       "    </tr>\n",
       "  </thead>\n",
       "  <tbody>\n",
       "    <tr>\n",
       "      <th>0</th>\n",
       "      <td>0.0</td>\n",
       "      <td>Phone</td>\n",
       "    </tr>\n",
       "    <tr>\n",
       "      <th>1</th>\n",
       "      <td>0.0</td>\n",
       "      <td>Web</td>\n",
       "    </tr>\n",
       "    <tr>\n",
       "      <th>2</th>\n",
       "      <td>19.0</td>\n",
       "      <td>Phone</td>\n",
       "    </tr>\n",
       "    <tr>\n",
       "      <th>3</th>\n",
       "      <td>5.0</td>\n",
       "      <td>Phone</td>\n",
       "    </tr>\n",
       "    <tr>\n",
       "      <th>4</th>\n",
       "      <td>0.0</td>\n",
       "      <td>Web</td>\n",
       "    </tr>\n",
       "  </tbody>\n",
       "</table>\n",
       "</div>"
      ],
      "text/plain": [
       "   case_age_days case_origin\n",
       "0            0.0       Phone\n",
       "1            0.0         Web\n",
       "2           19.0       Phone\n",
       "3            5.0       Phone\n",
       "4            0.0         Web"
      ]
     },
     "execution_count": 3,
     "metadata": {},
     "output_type": "execute_result"
    }
   ],
   "source": [
    "overall_case_df = df[['case_age_days','case_origin']]\n",
    "overall_case_df.head()"
   ]
  },
  {
   "cell_type": "code",
   "execution_count": 15,
   "metadata": {},
   "outputs": [
    {
     "data": {
      "text/plain": [
       "17.0"
      ]
     },
     "execution_count": 15,
     "metadata": {},
     "output_type": "execute_result"
    }
   ],
   "source": [
    "overall_case_df['case_age_days'].median()"
   ]
  },
  {
   "cell_type": "code",
   "execution_count": 4,
   "metadata": {},
   "outputs": [
    {
     "data": {
      "text/plain": [
       "Text(0, 0.5, 'Average Days Open')"
      ]
     },
     "execution_count": 4,
     "metadata": {},
     "output_type": "execute_result"
    },
    {
     "data": {
      "image/png": "[encoded data removed]",
      "text/plain": [
       "<Figure size 432x288 with 1 Axes>"
      ]
     },
     "metadata": {
      "needs_background": "light"
     },
     "output_type": "display_data"
    }
   ],
   "source": [
    "case_group = overall_case_df.groupby(['case_origin']).mean()\n",
    "case_group.reset_index(inplace=True)\n",
    "case_group.head()  \n",
    "plt.bar(case_group['case_origin'], case_group['case_age_days'], color='b', alpha=.5, align='center')\n",
    "plt.title('Average Days Open per Case Origin')\n",
    "plt.ylabel('Average Days Open')"
   ]
  },
  {
   "cell_type": "code",
   "execution_count": 5,
   "metadata": {},
   "outputs": [
    {
     "data": {
      "text/html": [
       "<div>\n",
       "<style scoped>\n",
       "    .dataframe tbody tr th:only-of-type {\n",
       "        vertical-align: middle;\n",
       "    }\n",
       "\n",
       "    .dataframe tbody tr th {\n",
       "        vertical-align: top;\n",
       "    }\n",
       "\n",
       "    .dataframe thead th {\n",
       "        text-align: right;\n",
       "    }\n",
       "</style>\n",
       "<table border=\"1\" class=\"dataframe\">\n",
       "  <thead>\n",
       "    <tr style=\"text-align: right;\">\n",
       "      <th></th>\n",
       "      <th>case_origin</th>\n",
       "      <th>case_age_days</th>\n",
       "    </tr>\n",
       "  </thead>\n",
       "  <tbody>\n",
       "    <tr>\n",
       "      <th>0</th>\n",
       "      <td>Email</td>\n",
       "      <td>259</td>\n",
       "    </tr>\n",
       "    <tr>\n",
       "      <th>1</th>\n",
       "      <td>Mobile</td>\n",
       "      <td>24890</td>\n",
       "    </tr>\n",
       "    <tr>\n",
       "      <th>2</th>\n",
       "      <td>Phone</td>\n",
       "      <td>3684</td>\n",
       "    </tr>\n",
       "    <tr>\n",
       "      <th>3</th>\n",
       "      <td>Web</td>\n",
       "      <td>14582</td>\n",
       "    </tr>\n",
       "  </tbody>\n",
       "</table>\n",
       "</div>"
      ],
      "text/plain": [
       "  case_origin  case_age_days\n",
       "0       Email            259\n",
       "1      Mobile          24890\n",
       "2       Phone           3684\n",
       "3         Web          14582"
      ]
     },
     "execution_count": 5,
     "metadata": {},
     "output_type": "execute_result"
    }
   ],
   "source": [
    "case_count = overall_case_df.groupby(['case_origin']).count()\n",
    "case_count.reset_index(inplace=True)\n",
    "case_count.head(10)"
   ]
  },
  {
   "cell_type": "code",
   "execution_count": 6,
   "metadata": {},
   "outputs": [
    {
     "name": "stderr",
     "output_type": "stream",
     "text": [
      "/Users/anthonystansall/anaconda3/envs/PythonData/lib/python3.7/site-packages/ipykernel_launcher.py:3: SettingWithCopyWarning: \n",
      "A value is trying to be set on a copy of a slice from a DataFrame.\n",
      "Try using .loc[row_indexer,col_indexer] = value instead\n",
      "\n",
      "See the caveats in the documentation: http://pandas.pydata.org/pandas-docs/stable/indexing.html#indexing-view-versus-copy\n",
      "  This is separate from the ipykernel package so we can avoid doing imports until\n",
      "/Users/anthonystansall/anaconda3/envs/PythonData/lib/python3.7/site-packages/pandas/core/frame.py:3940: SettingWithCopyWarning: \n",
      "A value is trying to be set on a copy of a slice from a DataFrame\n",
      "\n",
      "See the caveats in the documentation: http://pandas.pydata.org/pandas-docs/stable/indexing.html#indexing-view-versus-copy\n",
      "  errors=errors)\n"
     ]
    },
    {
     "data": {
      "text/html": [
       "<div>\n",
       "<style scoped>\n",
       "    .dataframe tbody tr th:only-of-type {\n",
       "        vertical-align: middle;\n",
       "    }\n",
       "\n",
       "    .dataframe tbody tr th {\n",
       "        vertical-align: top;\n",
       "    }\n",
       "\n",
       "    .dataframe thead th {\n",
       "        text-align: right;\n",
       "    }\n",
       "</style>\n",
       "<table border=\"1\" class=\"dataframe\">\n",
       "  <thead>\n",
       "    <tr style=\"text-align: right;\">\n",
       "      <th></th>\n",
       "      <th>case_age_days</th>\n",
       "      <th>district</th>\n",
       "      <th>district_l</th>\n",
       "    </tr>\n",
       "  </thead>\n",
       "  <tbody>\n",
       "    <tr>\n",
       "      <th>0</th>\n",
       "      <td>0.0</td>\n",
       "      <td>2.0</td>\n",
       "      <td>District 2.0</td>\n",
       "    </tr>\n",
       "    <tr>\n",
       "      <th>1</th>\n",
       "      <td>0.0</td>\n",
       "      <td>3.0</td>\n",
       "      <td>District 3.0</td>\n",
       "    </tr>\n",
       "    <tr>\n",
       "      <th>2</th>\n",
       "      <td>19.0</td>\n",
       "      <td>9.0</td>\n",
       "      <td>District 9.0</td>\n",
       "    </tr>\n",
       "    <tr>\n",
       "      <th>3</th>\n",
       "      <td>5.0</td>\n",
       "      <td>1.0</td>\n",
       "      <td>District 1.0</td>\n",
       "    </tr>\n",
       "    <tr>\n",
       "      <th>4</th>\n",
       "      <td>0.0</td>\n",
       "      <td>3.0</td>\n",
       "      <td>District 3.0</td>\n",
       "    </tr>\n",
       "  </tbody>\n",
       "</table>\n",
       "</div>"
      ],
      "text/plain": [
       "   case_age_days  district    district_l\n",
       "0            0.0       2.0  District 2.0\n",
       "1            0.0       3.0  District 3.0\n",
       "2           19.0       9.0  District 9.0\n",
       "3            5.0       1.0  District 1.0\n",
       "4            0.0       3.0  District 3.0"
      ]
     },
     "execution_count": 6,
     "metadata": {},
     "output_type": "execute_result"
    }
   ],
   "source": [
    "overall_district_df = df[['case_age_days', 'district']]\n",
    "overall_district_df.dropna(subset=['district'])\n",
    "overall_district_df['district_l'] = 'District' + ' ' + df['district'].astype(str)\n",
    "missing_district = overall_district_df[overall_district_df['district_l'] == 'District nan'].index\n",
    "overall_district_df.drop(missing_district, inplace=True)\n",
    "overall_district_df.head()"
   ]
  },
  {
   "cell_type": "code",
   "execution_count": 11,
   "metadata": {},
   "outputs": [
    {
     "data": {
      "image/png": "[encoded data removed]",
      "text/plain": [
       "<Figure size 432x288 with 1 Axes>"
      ]
     },
     "metadata": {
      "needs_background": "light"
     },
     "output_type": "display_data"
    }
   ],
   "source": [
    "district_group = overall_district_df.groupby(['district_l']).mean()\n",
    "district_group.reset_index(inplace=True)\n",
    "plt.barh(district_group['district_l'], district_group['case_age_days'], color='b', alpha=.5, align='center')\n",
    "plt.title('Average Days Open per District')\n",
    "plt.xlabel('Average Days Open')\n",
    "plt.tight_layout()\n",
    "plt.savefig(\"../data/DaysOpenperDistrict.png\")"
   ]
  },
  {
   "cell_type": "code",
   "execution_count": 8,
   "metadata": {},
   "outputs": [
    {
     "data": {
      "text/html": [
       "<div>\n",
       "<style scoped>\n",
       "    .dataframe tbody tr th:only-of-type {\n",
       "        vertical-align: middle;\n",
       "    }\n",
       "\n",
       "    .dataframe tbody tr th {\n",
       "        vertical-align: top;\n",
       "    }\n",
       "\n",
       "    .dataframe thead th {\n",
       "        text-align: right;\n",
       "    }\n",
       "</style>\n",
       "<table border=\"1\" class=\"dataframe\">\n",
       "  <thead>\n",
       "    <tr style=\"text-align: right;\">\n",
       "      <th></th>\n",
       "      <th>district_l</th>\n",
       "      <th>case_age_days</th>\n",
       "      <th>district</th>\n",
       "    </tr>\n",
       "  </thead>\n",
       "  <tbody>\n",
       "    <tr>\n",
       "      <th>0</th>\n",
       "      <td>District 1.0</td>\n",
       "      <td>3889</td>\n",
       "      <td>4092</td>\n",
       "    </tr>\n",
       "    <tr>\n",
       "      <th>1</th>\n",
       "      <td>District 2.0</td>\n",
       "      <td>7735</td>\n",
       "      <td>7970</td>\n",
       "    </tr>\n",
       "    <tr>\n",
       "      <th>2</th>\n",
       "      <td>District 3.0</td>\n",
       "      <td>6352</td>\n",
       "      <td>6595</td>\n",
       "    </tr>\n",
       "    <tr>\n",
       "      <th>3</th>\n",
       "      <td>District 4.0</td>\n",
       "      <td>2444</td>\n",
       "      <td>2484</td>\n",
       "    </tr>\n",
       "    <tr>\n",
       "      <th>4</th>\n",
       "      <td>District 5.0</td>\n",
       "      <td>3936</td>\n",
       "      <td>3997</td>\n",
       "    </tr>\n",
       "  </tbody>\n",
       "</table>\n",
       "</div>"
      ],
      "text/plain": [
       "     district_l  case_age_days  district\n",
       "0  District 1.0           3889      4092\n",
       "1  District 2.0           7735      7970\n",
       "2  District 3.0           6352      6595\n",
       "3  District 4.0           2444      2484\n",
       "4  District 5.0           3936      3997"
      ]
     },
     "execution_count": 8,
     "metadata": {},
     "output_type": "execute_result"
    }
   ],
   "source": [
    "district_count = overall_district_df.groupby(['district_l']).count()\n",
    "district_count.reset_index(inplace=True)\n",
    "district_count.head()"
   ]
  },
  {
   "cell_type": "code",
   "execution_count": 12,
   "metadata": {},
   "outputs": [
    {
     "data": {
      "image/png": "[encoded data removed]",
      "text/plain": [
       "<Figure size 432x288 with 1 Axes>"
      ]
     },
     "metadata": {
      "needs_background": "light"
     },
     "output_type": "display_data"
    }
   ],
   "source": [
    "plt.barh(district_count['district_l'], district_count['case_age_days'], color='b', alpha=.5, align='center')\n",
    "plt.title('Number of Potholes per District')\n",
    "plt.xlabel('Number of Potholes')\n",
    "plt.tight_layout()\n",
    "plt.savefig(\"../data/NumberperDistrict.png\")"
   ]
  },
  {
   "cell_type": "code",
   "execution_count": null,
   "metadata": {},
   "outputs": [],
   "source": []
  }
 ],
 "metadata": {
  "kernelspec": {
   "display_name": "Python 3",
   "language": "python",
   "name": "python3"
  },
  "language_info": {
   "codemirror_mode": {
    "name": "ipython",
    "version": 3
   },
   "file_extension": ".py",
   "mimetype": "text/x-python",
   "name": "python",
   "nbconvert_exporter": "python",
   "pygments_lexer": "ipython3",
   "version": "3.7.1"
  }
 },
 "nbformat": 4,
 "nbformat_minor": 2
}
